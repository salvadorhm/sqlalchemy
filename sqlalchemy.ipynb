{
  "nbformat": 4,
  "nbformat_minor": 0,
  "metadata": {
    "colab": {
      "name": "sqlalchemy.ipynb",
      "provenance": [],
      "collapsed_sections": [],
      "authorship_tag": "ABX9TyMER/iNugcq4nbo9yBz5n/E",
      "include_colab_link": true
    },
    "kernelspec": {
      "name": "python3",
      "display_name": "Python 3"
    },
    "language_info": {
      "name": "python"
    },
    "gpuClass": "standard"
  },
  "cells": [
    {
      "cell_type": "markdown",
      "metadata": {
        "id": "view-in-github",
        "colab_type": "text"
      },
      "source": [
        "<a href=\"https://colab.research.google.com/github/salvadorhm/sqlalchemy/blob/main/sqlalchemy.ipynb\" target=\"_parent\"><img src=\"https://colab.research.google.com/assets/colab-badge.svg\" alt=\"Open In Colab\"/></a>"
      ]
    },
    {
      "cell_type": "markdown",
      "source": [
        "# SQLAlchemy Introduccion\n",
        "\n",
        "## Cargar las librerias de sqlachemy"
      ],
      "metadata": {
        "id": "4mN3A-cHsodi"
      }
    },
    {
      "cell_type": "code",
      "execution_count": 1,
      "metadata": {
        "id": "MQeJbAGLrwY8"
      },
      "outputs": [],
      "source": [
        "from sqlalchemy import create_engine # Conexion con las bases de datos\n",
        "from sqlalchemy import MetaData # Metadatos de las tablas\n",
        "from sqlalchemy import Table, Column, Integer, String # Tipos de datos\n",
        "from sqlalchemy import insert, select, update, delete # Funciones "
      ]
    },
    {
      "cell_type": "markdown",
      "source": [
        "# Conexion con la base de datos"
      ],
      "metadata": {
        "id": "0rfoo7artFWP"
      }
    },
    {
      "cell_type": "code",
      "source": [
        "engine = create_engine('sqlite:///foo.db')"
      ],
      "metadata": {
        "id": "IXUj9D7hr1ka"
      },
      "execution_count": 2,
      "outputs": []
    },
    {
      "cell_type": "markdown",
      "source": [
        "# Objeto para definir las tablas"
      ],
      "metadata": {
        "id": "q8SsStpvtKry"
      }
    },
    {
      "cell_type": "code",
      "source": [
        "metadata_obj = MetaData()"
      ],
      "metadata": {
        "id": "D9Ihloe6r6A1"
      },
      "execution_count": 3,
      "outputs": []
    },
    {
      "cell_type": "markdown",
      "source": [
        "# Definicion de la tabla clientes"
      ],
      "metadata": {
        "id": "YTw6oAV3tQ2U"
      }
    },
    {
      "cell_type": "code",
      "source": [
        "clientes = Table(\n",
        "    'clientes',\n",
        "    metadata_obj,\n",
        "    Column('id_cliente', Integer, primary_key=True),\n",
        "    Column('nombre', String(16), nullable=False),\n",
        "    Column('email', String(60), nullable=False),\n",
        ")"
      ],
      "metadata": {
        "id": "0vJm75aQr_5f"
      },
      "execution_count": 4,
      "outputs": []
    },
    {
      "cell_type": "markdown",
      "source": [
        "# Creacion de las tablas y de la base de datos si no existiera"
      ],
      "metadata": {
        "id": "N845WqRmtWv9"
      }
    },
    {
      "cell_type": "code",
      "source": [
        "metadata_obj.create_all(engine)"
      ],
      "metadata": {
        "id": "I0D1BksesC4O"
      },
      "execution_count": 5,
      "outputs": []
    },
    {
      "cell_type": "markdown",
      "source": [
        "# Statement para insertar un nuevo registro usando SQLAlchemy Core"
      ],
      "metadata": {
        "id": "AU5dTjuftd1l"
      }
    },
    {
      "cell_type": "code",
      "source": [
        "stmt = insert(clientes).values(nombre='Cliente 1', email=\"cliente1@email.com\")\n",
        "print(stmt)"
      ],
      "metadata": {
        "colab": {
          "base_uri": "https://localhost:8080/"
        },
        "id": "J4srK3wCsFP-",
        "outputId": "fae7dd7d-04d1-43cb-fde8-a835afa4b0f4"
      },
      "execution_count": 6,
      "outputs": [
        {
          "output_type": "stream",
          "name": "stdout",
          "text": [
            "INSERT INTO clientes (nombre, email) VALUES (:nombre, :email)\n"
          ]
        }
      ]
    },
    {
      "cell_type": "markdown",
      "source": [
        "# Conexion con la base de datos y ejecucion del statement.\n",
        "\n",
        "**Nota:** with permite abrir y cerrar la sesion con la base de datos de forma automatica.\n",
        "\n"
      ],
      "metadata": {
        "id": "EJA_3OYltmvX"
      }
    },
    {
      "cell_type": "code",
      "source": [
        "with engine.connect() as conn:\n",
        "    result = conn.execute(stmt)"
      ],
      "metadata": {
        "id": "VmKtiUDDsW7V"
      },
      "execution_count": 7,
      "outputs": []
    },
    {
      "cell_type": "markdown",
      "source": [
        "# Insertar multiple registros"
      ],
      "metadata": {
        "id": "0t6aetJwvuN-"
      }
    },
    {
      "cell_type": "code",
      "source": [
        "data = [\n",
        "    {\"nombre\":\"Cliente 2\",\"email\":\"cliente2@email.com\"},\n",
        "    {\"nombre\":\"Cliente 3\",\"email\":\"cliente3@email.com\"}\n",
        "    ]\n",
        "stmt = insert(clientes).values(data)\n",
        "print(stmt)"
      ],
      "metadata": {
        "colab": {
          "base_uri": "https://localhost:8080/"
        },
        "id": "6-eJMbcgvxUo",
        "outputId": "900f7afa-0048-4fcd-cb92-97a2be2635aa"
      },
      "execution_count": 8,
      "outputs": [
        {
          "output_type": "stream",
          "name": "stdout",
          "text": [
            "INSERT INTO clientes (nombre, email) VALUES (:nombre_m0, :email_m0), (:nombre_m1, :email_m1)\n"
          ]
        }
      ]
    },
    {
      "cell_type": "markdown",
      "source": [
        "# Conexion con la base de datos para insertar los valores"
      ],
      "metadata": {
        "id": "aYRuAmYUwoi6"
      }
    },
    {
      "cell_type": "code",
      "source": [
        "with engine.connect() as conn:\n",
        "    result = conn.execute(stmt)"
      ],
      "metadata": {
        "id": "GSCSaQdkwt8U"
      },
      "execution_count": 9,
      "outputs": []
    },
    {
      "cell_type": "markdown",
      "source": [
        "# Statement para consultar todos los registros con SQLAlchemy Core"
      ],
      "metadata": {
        "id": "gKNwCsP1u0wd"
      }
    },
    {
      "cell_type": "code",
      "source": [
        "stmt = select(clientes)\n",
        "print(stmt)"
      ],
      "metadata": {
        "colab": {
          "base_uri": "https://localhost:8080/"
        },
        "id": "gn0v_DsxsXyg",
        "outputId": "d9bd6abc-8a57-43f8-fec5-3c07d3476432"
      },
      "execution_count": 10,
      "outputs": [
        {
          "output_type": "stream",
          "name": "stdout",
          "text": [
            "SELECT clientes.id_cliente, clientes.nombre, clientes.email \n",
            "FROM clientes\n"
          ]
        }
      ]
    },
    {
      "cell_type": "markdown",
      "source": [
        "# Conexion con la base de datos y ejecucion del statement."
      ],
      "metadata": {
        "id": "L4ymj6I9vAn9"
      }
    },
    {
      "cell_type": "code",
      "source": [
        "with engine.connect() as conn:\n",
        "    result = conn.execute(stmt)\n",
        "    for row in result.fetchall():\n",
        "        print(f\"{row['id_cliente']} : {row['nombre']} : {row['email']}\")"
      ],
      "metadata": {
        "colab": {
          "base_uri": "https://localhost:8080/"
        },
        "id": "PNHNkmiasfir",
        "outputId": "0a222cee-8e2b-4777-f2eb-9a1bbebabab7"
      },
      "execution_count": 11,
      "outputs": [
        {
          "output_type": "stream",
          "name": "stdout",
          "text": [
            "1 : Cliente 1 : cliente1@email.com\n",
            "2 : Cliente 2 : cliente2@email.com\n",
            "3 : Cliente 3 : cliente3@email.com\n"
          ]
        }
      ]
    },
    {
      "cell_type": "markdown",
      "source": [
        "# Statement para consultar un solo registro"
      ],
      "metadata": {
        "id": "hEPQDMKnxRZW"
      }
    },
    {
      "cell_type": "code",
      "source": [
        "stmt = select(clientes).where(clientes.c.nombre =='Cliente 1')\n",
        "print(stmt)"
      ],
      "metadata": {
        "colab": {
          "base_uri": "https://localhost:8080/"
        },
        "id": "OkaSIvBOsi7c",
        "outputId": "e2c6fedf-74ec-434a-e798-eaf19a08bb86"
      },
      "execution_count": 12,
      "outputs": [
        {
          "output_type": "stream",
          "name": "stdout",
          "text": [
            "SELECT clientes.id_cliente, clientes.nombre, clientes.email \n",
            "FROM clientes \n",
            "WHERE clientes.nombre = :nombre_1\n"
          ]
        }
      ]
    },
    {
      "cell_type": "markdown",
      "source": [
        "# Ejecutando el statement SELECT WHERE"
      ],
      "metadata": {
        "id": "CnaA5jh42mma"
      }
    },
    {
      "cell_type": "code",
      "source": [
        "with engine.connect() as conn:\n",
        "    result = conn.execute(stmt)\n",
        "    for row in result.fetchall():\n",
        "        print(f\"{row['id_cliente']} : {row['nombre']} : {row['email']}\")"
      ],
      "metadata": {
        "colab": {
          "base_uri": "https://localhost:8080/"
        },
        "id": "KGC7ilb8yG3i",
        "outputId": "e6e5f7f0-fc37-4373-fff8-278e1cf5824a"
      },
      "execution_count": 13,
      "outputs": [
        {
          "output_type": "stream",
          "name": "stdout",
          "text": [
            "1 : Cliente 1 : cliente1@email.com\n"
          ]
        }
      ]
    },
    {
      "cell_type": "code",
      "source": [
        "with engine.connect() as conn:\n",
        "    result = conn.execute(stmt)\n",
        "    for row in result:\n",
        "        print(f\"{row.id_cliente}:{row.nombre}:{row.email}\")"
      ],
      "metadata": {
        "id": "QPPdWeYq2r-T",
        "colab": {
          "base_uri": "https://localhost:8080/"
        },
        "outputId": "571a9c2b-8320-4bc2-b347-c79750dd6484"
      },
      "execution_count": 14,
      "outputs": [
        {
          "output_type": "stream",
          "name": "stdout",
          "text": [
            "1:Cliente 1:cliente1@email.com\n"
          ]
        }
      ]
    },
    {
      "cell_type": "markdown",
      "source": [
        "# Actualizar un registro"
      ],
      "metadata": {
        "id": "rtQhIX3_5ZEX"
      }
    },
    {
      "cell_type": "code",
      "source": [
        "stmt = (\n",
        "    update(clientes).where(clientes.c.id_cliente == 1).\n",
        "    values(nombre = 'Cliente actualizado')\n",
        "    )\n",
        "\n",
        "print(stmt)"
      ],
      "metadata": {
        "colab": {
          "base_uri": "https://localhost:8080/"
        },
        "id": "8PbHmuQC5bRl",
        "outputId": "5e4f6f3f-cc48-498f-c064-18201b7a489e"
      },
      "execution_count": 15,
      "outputs": [
        {
          "output_type": "stream",
          "name": "stdout",
          "text": [
            "UPDATE clientes SET nombre=:nombre WHERE clientes.id_cliente = :id_cliente_1\n"
          ]
        }
      ]
    },
    {
      "cell_type": "markdown",
      "source": [
        "# Ejecutar el statement UPDATE"
      ],
      "metadata": {
        "id": "k95vFOq36VLm"
      }
    },
    {
      "cell_type": "code",
      "source": [
        "with engine.connect() as conn:\n",
        "    result = conn.execute(stmt)"
      ],
      "metadata": {
        "id": "j3gafG-45yq4"
      },
      "execution_count": 16,
      "outputs": []
    },
    {
      "cell_type": "markdown",
      "source": [
        "# Creación de un metodo para imprimir todos los registros"
      ],
      "metadata": {
        "id": "L0WHiemF6aJx"
      }
    },
    {
      "cell_type": "code",
      "source": [
        "def get_all():\n",
        "    with engine.connect() as conn:\n",
        "        stmt = select(clientes)\n",
        "        result = conn.execute(stmt)\n",
        "        for row in result.fetchall():\n",
        "            print(f\"{row['id_cliente']} : {row['nombre']} : {row['email']}\")"
      ],
      "metadata": {
        "id": "9i7LncVK53Uc"
      },
      "execution_count": 17,
      "outputs": []
    },
    {
      "cell_type": "markdown",
      "source": [
        "# Invocar el método para mostrar todos los registros"
      ],
      "metadata": {
        "id": "WpU95Jtf6fqL"
      }
    },
    {
      "cell_type": "code",
      "source": [
        "get_all()"
      ],
      "metadata": {
        "colab": {
          "base_uri": "https://localhost:8080/"
        },
        "id": "A-Fyuu0G6BUj",
        "outputId": "1c6ff345-0491-4d80-f38f-5e8ff434abf0"
      },
      "execution_count": 18,
      "outputs": [
        {
          "output_type": "stream",
          "name": "stdout",
          "text": [
            "1 : Cliente actualizado : cliente1@email.com\n",
            "2 : Cliente 2 : cliente2@email.com\n",
            "3 : Cliente 3 : cliente3@email.com\n"
          ]
        }
      ]
    },
    {
      "cell_type": "markdown",
      "source": [
        "# Statemente para eliminar un registro con DELETE"
      ],
      "metadata": {
        "id": "WH_JJwUF68uk"
      }
    },
    {
      "cell_type": "code",
      "source": [
        "stmt = delete(clientes).where(clientes.c.id_cliente == 2)\n",
        "print(stmt)"
      ],
      "metadata": {
        "colab": {
          "base_uri": "https://localhost:8080/"
        },
        "id": "fOGnfGuZ6j_d",
        "outputId": "40a97ad3-d9bf-45bd-ed79-70f23c36d79d"
      },
      "execution_count": 19,
      "outputs": [
        {
          "output_type": "stream",
          "name": "stdout",
          "text": [
            "DELETE FROM clientes WHERE clientes.id_cliente = :id_cliente_1\n"
          ]
        }
      ]
    },
    {
      "cell_type": "markdown",
      "source": [
        "# Definir metodo para ejecutar STATEMENTS"
      ],
      "metadata": {
        "id": "qDXyIs197NuY"
      }
    },
    {
      "cell_type": "code",
      "source": [
        "def execute(stmt):\n",
        "    with engine.connect() as conn:\n",
        "        result = conn.execute(stmt)\n",
        "        return result"
      ],
      "metadata": {
        "id": "cnq0dSS97R34"
      },
      "execution_count": 20,
      "outputs": []
    },
    {
      "cell_type": "markdown",
      "source": [
        "# Llamar al metodo execute con el statement DELETE"
      ],
      "metadata": {
        "id": "wAXlJzvD7cGK"
      }
    },
    {
      "cell_type": "code",
      "source": [
        "execute(stmt)"
      ],
      "metadata": {
        "id": "WPFF-ygE7hrM",
        "outputId": "6049205d-38e2-44ca-a055-711282591563",
        "colab": {
          "base_uri": "https://localhost:8080/"
        }
      },
      "execution_count": 21,
      "outputs": [
        {
          "output_type": "execute_result",
          "data": {
            "text/plain": [
              "<sqlalchemy.engine.cursor.LegacyCursorResult at 0x7f8498efad90>"
            ]
          },
          "metadata": {},
          "execution_count": 21
        }
      ]
    },
    {
      "cell_type": "markdown",
      "source": [
        "# Imprimir todos los registros para verificar que se elimino un registro"
      ],
      "metadata": {
        "id": "sy_jr77r7pYz"
      }
    },
    {
      "cell_type": "code",
      "source": [
        "get_all()"
      ],
      "metadata": {
        "id": "6-EQYYMk7laf",
        "outputId": "4a828625-5196-43d4-eb62-c2cbd8f550f9",
        "colab": {
          "base_uri": "https://localhost:8080/"
        }
      },
      "execution_count": 22,
      "outputs": [
        {
          "output_type": "stream",
          "name": "stdout",
          "text": [
            "1 : Cliente actualizado : cliente1@email.com\n",
            "3 : Cliente 3 : cliente3@email.com\n"
          ]
        }
      ]
    }
  ]
}