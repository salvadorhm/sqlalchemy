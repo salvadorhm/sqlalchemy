{
  "nbformat": 4,
  "nbformat_minor": 0,
  "metadata": {
    "colab": {
      "name": "sqlalchemy.ipynb",
      "provenance": [],
      "authorship_tag": "ABX9TyPEd80ohcfmLlCuPz4SnlGW",
      "include_colab_link": true
    },
    "kernelspec": {
      "name": "python3",
      "display_name": "Python 3"
    },
    "language_info": {
      "name": "python"
    },
    "gpuClass": "standard"
  },
  "cells": [
    {
      "cell_type": "markdown",
      "metadata": {
        "id": "view-in-github",
        "colab_type": "text"
      },
      "source": [
        "<a href=\"https://colab.research.google.com/github/salvadorhm/sqlalchemy/blob/main/sqlalchemy.ipynb\" target=\"_parent\"><img src=\"https://colab.research.google.com/assets/colab-badge.svg\" alt=\"Open In Colab\"/></a>"
      ]
    },
    {
      "cell_type": "markdown",
      "source": [
        "# SQLAlchemy Introduccion\n",
        "\n",
        "## Cargar las librerias de sqlachemy"
      ],
      "metadata": {
        "id": "4mN3A-cHsodi"
      }
    },
    {
      "cell_type": "code",
      "execution_count": 1,
      "metadata": {
        "id": "MQeJbAGLrwY8"
      },
      "outputs": [],
      "source": [
        "from sqlalchemy import create_engine # Conexion con las bases de datos\n",
        "from sqlalchemy import MetaData # Metadatos de las tablas\n",
        "from sqlalchemy import Table, Column, Integer, String # Tipos de datos\n",
        "from sqlalchemy import insert, select # Funciones "
      ]
    },
    {
      "cell_type": "markdown",
      "source": [
        "# Conexion con la base de datos"
      ],
      "metadata": {
        "id": "0rfoo7artFWP"
      }
    },
    {
      "cell_type": "code",
      "source": [
        "engine = create_engine('sqlite:///foo.db')"
      ],
      "metadata": {
        "id": "IXUj9D7hr1ka"
      },
      "execution_count": 2,
      "outputs": []
    },
    {
      "cell_type": "markdown",
      "source": [
        "# Objeto para definir las tablas"
      ],
      "metadata": {
        "id": "q8SsStpvtKry"
      }
    },
    {
      "cell_type": "code",
      "source": [
        "metadata_obj = MetaData()"
      ],
      "metadata": {
        "id": "D9Ihloe6r6A1"
      },
      "execution_count": 3,
      "outputs": []
    },
    {
      "cell_type": "markdown",
      "source": [
        "# Definicion de la tabla clientes"
      ],
      "metadata": {
        "id": "YTw6oAV3tQ2U"
      }
    },
    {
      "cell_type": "code",
      "source": [
        "clientes = Table(\n",
        "    'clientes',\n",
        "    metadata_obj,\n",
        "    Column('id_cliente', Integer, primary_key=True),\n",
        "    Column('nombre', String(16), nullable=False),\n",
        "    Column('email', String(60), nullable=False),\n",
        ")"
      ],
      "metadata": {
        "id": "0vJm75aQr_5f"
      },
      "execution_count": 4,
      "outputs": []
    },
    {
      "cell_type": "markdown",
      "source": [
        "# Creacion de las tablas y de la base de datos si no existiera"
      ],
      "metadata": {
        "id": "N845WqRmtWv9"
      }
    },
    {
      "cell_type": "code",
      "source": [
        "metadata_obj.create_all(engine)"
      ],
      "metadata": {
        "id": "I0D1BksesC4O"
      },
      "execution_count": 5,
      "outputs": []
    },
    {
      "cell_type": "markdown",
      "source": [
        "# Statement para insertar un nuevo registro usando SQLAlchemy "
      ],
      "metadata": {
        "id": "AU5dTjuftd1l"
      }
    },
    {
      "cell_type": "code",
      "source": [
        "stmt = insert(clientes).values(nombre='Cliente 1', email=\"cliente1@email.com\")\n",
        "print(stmt)"
      ],
      "metadata": {
        "colab": {
          "base_uri": "https://localhost:8080/"
        },
        "id": "J4srK3wCsFP-",
        "outputId": "fbfa0917-b8c1-40e7-989e-6e49798aed5f"
      },
      "execution_count": 7,
      "outputs": [
        {
          "output_type": "stream",
          "name": "stdout",
          "text": [
            "INSERT INTO clientes (nombre, email) VALUES (:nombre, :email)\n"
          ]
        }
      ]
    },
    {
      "cell_type": "markdown",
      "source": [
        "# Conexion con la base de datos y ejecucion del statement.\n",
        "\n",
        "**Nota:** with permite abrir y cerrar la sesion con la base de datos de forma automatica.\n",
        "\n"
      ],
      "metadata": {
        "id": "EJA_3OYltmvX"
      }
    },
    {
      "cell_type": "code",
      "source": [
        "with engine.connect() as conn:\n",
        "    result = conn.execute(stmt)"
      ],
      "metadata": {
        "id": "VmKtiUDDsW7V"
      },
      "execution_count": 8,
      "outputs": []
    },
    {
      "cell_type": "code",
      "source": [
        "stmt = select(clientes)\n",
        "print(stmt)"
      ],
      "metadata": {
        "colab": {
          "base_uri": "https://localhost:8080/"
        },
        "id": "gn0v_DsxsXyg",
        "outputId": "3a5712f6-35d9-40ea-a36c-6faf7a553aec"
      },
      "execution_count": 10,
      "outputs": [
        {
          "output_type": "stream",
          "name": "stdout",
          "text": [
            "SELECT clientes.id_cliente, clientes.nombre, clientes.email \n",
            "FROM clientes\n"
          ]
        }
      ]
    },
    {
      "cell_type": "code",
      "source": [
        "with engine.connect() as conn:\n",
        "    result = conn.execute(stmt)\n",
        "    for row in result.fetchall():\n",
        "        print(f\"{row['id_cliente']}:{row['nombre']}\")"
      ],
      "metadata": {
        "colab": {
          "base_uri": "https://localhost:8080/"
        },
        "id": "PNHNkmiasfir",
        "outputId": "2d14e82a-3003-4d72-d42f-0b56d6634ab5"
      },
      "execution_count": 11,
      "outputs": [
        {
          "output_type": "stream",
          "name": "stdout",
          "text": [
            "1:Cliente 1\n"
          ]
        }
      ]
    },
    {
      "cell_type": "code",
      "source": [
        ""
      ],
      "metadata": {
        "id": "OkaSIvBOsi7c"
      },
      "execution_count": null,
      "outputs": []
    }
  ]
}