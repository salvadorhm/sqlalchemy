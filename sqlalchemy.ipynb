{
  "nbformat": 4,
  "nbformat_minor": 0,
  "metadata": {
    "colab": {
      "name": "sqlalchemy.ipynb",
      "provenance": [],
      "collapsed_sections": [],
      "authorship_tag": "ABX9TyMuRjcmJlk8FY+SHwNQiGB3",
      "include_colab_link": true
    },
    "kernelspec": {
      "name": "python3",
      "display_name": "Python 3"
    },
    "language_info": {
      "name": "python"
    },
    "gpuClass": "standard"
  },
  "cells": [
    {
      "cell_type": "markdown",
      "metadata": {
        "id": "view-in-github",
        "colab_type": "text"
      },
      "source": [
        "<a href=\"https://colab.research.google.com/github/salvadorhm/sqlalchemy/blob/main/sqlalchemy.ipynb\" target=\"_parent\"><img src=\"https://colab.research.google.com/assets/colab-badge.svg\" alt=\"Open In Colab\"/></a>"
      ]
    },
    {
      "cell_type": "markdown",
      "source": [
        "# SQLAlchemy Introduccion\n",
        "\n",
        "## Cargar las librerias de sqlachemy"
      ],
      "metadata": {
        "id": "4mN3A-cHsodi"
      }
    },
    {
      "cell_type": "code",
      "execution_count": 15,
      "metadata": {
        "id": "MQeJbAGLrwY8"
      },
      "outputs": [],
      "source": [
        "from sqlalchemy import create_engine # Conexion con las bases de datos\n",
        "from sqlalchemy import MetaData # Metadatos de las tablas\n",
        "from sqlalchemy import Table, Column, Integer, String # Tipos de datos\n",
        "from sqlalchemy import insert, select, update, delete # Funciones "
      ]
    },
    {
      "cell_type": "markdown",
      "source": [
        "# Conexion con la base de datos"
      ],
      "metadata": {
        "id": "0rfoo7artFWP"
      }
    },
    {
      "cell_type": "code",
      "source": [
        "engine = create_engine('sqlite:///foo.db')"
      ],
      "metadata": {
        "id": "IXUj9D7hr1ka"
      },
      "execution_count": 2,
      "outputs": []
    },
    {
      "cell_type": "markdown",
      "source": [
        "# Objeto para definir las tablas"
      ],
      "metadata": {
        "id": "q8SsStpvtKry"
      }
    },
    {
      "cell_type": "code",
      "source": [
        "metadata_obj = MetaData()"
      ],
      "metadata": {
        "id": "D9Ihloe6r6A1"
      },
      "execution_count": 3,
      "outputs": []
    },
    {
      "cell_type": "markdown",
      "source": [
        "# Definicion de la tabla clientes"
      ],
      "metadata": {
        "id": "YTw6oAV3tQ2U"
      }
    },
    {
      "cell_type": "code",
      "source": [
        "clientes = Table(\n",
        "    'clientes',\n",
        "    metadata_obj,\n",
        "    Column('id_cliente', Integer, primary_key=True),\n",
        "    Column('nombre', String(16), nullable=False),\n",
        "    Column('email', String(60), nullable=False),\n",
        ")"
      ],
      "metadata": {
        "id": "0vJm75aQr_5f"
      },
      "execution_count": 4,
      "outputs": []
    },
    {
      "cell_type": "markdown",
      "source": [
        "# Creacion de las tablas y de la base de datos si no existiera"
      ],
      "metadata": {
        "id": "N845WqRmtWv9"
      }
    },
    {
      "cell_type": "code",
      "source": [
        "metadata_obj.create_all(engine)"
      ],
      "metadata": {
        "id": "I0D1BksesC4O"
      },
      "execution_count": 5,
      "outputs": []
    },
    {
      "cell_type": "markdown",
      "source": [
        "# Statement para insertar un nuevo registro usando SQLAlchemy Core"
      ],
      "metadata": {
        "id": "AU5dTjuftd1l"
      }
    },
    {
      "cell_type": "code",
      "source": [
        "stmt = insert(clientes).values(nombre='Cliente 1', email=\"cliente1@email.com\")\n",
        "print(stmt)"
      ],
      "metadata": {
        "colab": {
          "base_uri": "https://localhost:8080/"
        },
        "id": "J4srK3wCsFP-",
        "outputId": "6b0821ca-c765-4e79-b0ae-b48820560e5a"
      },
      "execution_count": 6,
      "outputs": [
        {
          "output_type": "stream",
          "name": "stdout",
          "text": [
            "INSERT INTO clientes (nombre, email) VALUES (:nombre, :email)\n"
          ]
        }
      ]
    },
    {
      "cell_type": "markdown",
      "source": [
        "# Conexion con la base de datos y ejecucion del statement.\n",
        "\n",
        "**Nota:** with permite abrir y cerrar la sesion con la base de datos de forma automatica.\n",
        "\n"
      ],
      "metadata": {
        "id": "EJA_3OYltmvX"
      }
    },
    {
      "cell_type": "code",
      "source": [
        "with engine.connect() as conn:\n",
        "    result = conn.execute(stmt)"
      ],
      "metadata": {
        "id": "VmKtiUDDsW7V"
      },
      "execution_count": 7,
      "outputs": []
    },
    {
      "cell_type": "markdown",
      "source": [
        "# Insertar multiple registros"
      ],
      "metadata": {
        "id": "0t6aetJwvuN-"
      }
    },
    {
      "cell_type": "code",
      "source": [
        "data = [\n",
        "    {\"nombre\":\"Cliente 2\",\"email\":\"cliente2@email.com\"},\n",
        "    {\"nombre\":\"Cliente 3\",\"email\":\"cliente3@email.com\"}\n",
        "    ]\n",
        "stmt = insert(clientes).values(data)\n",
        "print(stmt)"
      ],
      "metadata": {
        "colab": {
          "base_uri": "https://localhost:8080/"
        },
        "id": "6-eJMbcgvxUo",
        "outputId": "6206eaab-4124-4a26-faf3-1b00de061e34"
      },
      "execution_count": 8,
      "outputs": [
        {
          "output_type": "stream",
          "name": "stdout",
          "text": [
            "INSERT INTO clientes (nombre, email) VALUES (:nombre_m0, :email_m0), (:nombre_m1, :email_m1)\n"
          ]
        }
      ]
    },
    {
      "cell_type": "markdown",
      "source": [
        "# Conexion con la base de datos para insertar los valores"
      ],
      "metadata": {
        "id": "aYRuAmYUwoi6"
      }
    },
    {
      "cell_type": "code",
      "source": [
        "with engine.connect() as conn:\n",
        "    result = conn.execute(stmt)"
      ],
      "metadata": {
        "id": "GSCSaQdkwt8U"
      },
      "execution_count": 9,
      "outputs": []
    },
    {
      "cell_type": "markdown",
      "source": [
        "# Statement para consultar todos los registros con SQLAlchemy Core"
      ],
      "metadata": {
        "id": "gKNwCsP1u0wd"
      }
    },
    {
      "cell_type": "code",
      "source": [
        "stmt = select(clientes)\n",
        "print(stmt)"
      ],
      "metadata": {
        "colab": {
          "base_uri": "https://localhost:8080/"
        },
        "id": "gn0v_DsxsXyg",
        "outputId": "f5146195-20b8-4f5b-b666-572b435e689b"
      },
      "execution_count": 10,
      "outputs": [
        {
          "output_type": "stream",
          "name": "stdout",
          "text": [
            "SELECT clientes.id_cliente, clientes.nombre, clientes.email \n",
            "FROM clientes\n"
          ]
        }
      ]
    },
    {
      "cell_type": "markdown",
      "source": [
        "# Conexion con la base de datos y ejecucion del statement."
      ],
      "metadata": {
        "id": "L4ymj6I9vAn9"
      }
    },
    {
      "cell_type": "code",
      "source": [
        "with engine.connect() as conn:\n",
        "    result = conn.execute(stmt)\n",
        "    for row in result.fetchall():\n",
        "        print(f\"{row['id_cliente']} : {row['nombre']} : {row['email']}\")"
      ],
      "metadata": {
        "colab": {
          "base_uri": "https://localhost:8080/"
        },
        "id": "PNHNkmiasfir",
        "outputId": "1c3bef6b-52b7-4c30-98b3-bf37d5743557"
      },
      "execution_count": 11,
      "outputs": [
        {
          "output_type": "stream",
          "name": "stdout",
          "text": [
            "1 : Cliente 1 : cliente1@email.com\n",
            "2 : Cliente 2 : cliente2@email.com\n",
            "3 : Cliente 3 : cliente3@email.com\n",
            "4 : Cliente 1 : cliente1@email.com\n",
            "5 : Cliente 2 : cliente2@email.com\n",
            "6 : Cliente 3 : cliente3@email.com\n"
          ]
        }
      ]
    },
    {
      "cell_type": "markdown",
      "source": [
        "# Statement para consultar un solo registro"
      ],
      "metadata": {
        "id": "hEPQDMKnxRZW"
      }
    },
    {
      "cell_type": "code",
      "source": [
        "stmt = select(clientes).where(clientes.c.nombre =='Cliente 1')\n",
        "print(stmt)"
      ],
      "metadata": {
        "colab": {
          "base_uri": "https://localhost:8080/"
        },
        "id": "OkaSIvBOsi7c",
        "outputId": "809ed204-0030-491e-9542-7c937670c4ee"
      },
      "execution_count": 12,
      "outputs": [
        {
          "output_type": "stream",
          "name": "stdout",
          "text": [
            "SELECT clientes.id_cliente, clientes.nombre, clientes.email \n",
            "FROM clientes \n",
            "WHERE clientes.nombre = :nombre_1\n"
          ]
        }
      ]
    },
    {
      "cell_type": "markdown",
      "source": [
        "# Ejecutando el statement SELECT WHERE"
      ],
      "metadata": {
        "id": "CnaA5jh42mma"
      }
    },
    {
      "cell_type": "code",
      "source": [
        "with engine.connect() as conn:\n",
        "    result = conn.execute(stmt)\n",
        "    for row in result.fetchall():\n",
        "        print(f\"{row['id_cliente']} : {row['nombre']} : {row['email']}\")"
      ],
      "metadata": {
        "colab": {
          "base_uri": "https://localhost:8080/"
        },
        "id": "KGC7ilb8yG3i",
        "outputId": "957f888f-cd99-4de1-e6e2-ba6001a2ff65"
      },
      "execution_count": 13,
      "outputs": [
        {
          "output_type": "stream",
          "name": "stdout",
          "text": [
            "1 : Cliente 1 : cliente1@email.com\n",
            "4 : Cliente 1 : cliente1@email.com\n"
          ]
        }
      ]
    },
    {
      "cell_type": "code",
      "source": [
        "with engine.connect() as conn:\n",
        "    result = conn.execute(stmt)\n",
        "    for row in result:\n",
        "        print(f\"{row.id_cliente}:{row.nombre}:{row.email}\")"
      ],
      "metadata": {
        "id": "QPPdWeYq2r-T",
        "colab": {
          "base_uri": "https://localhost:8080/"
        },
        "outputId": "18767b0b-dde8-4941-ece1-a9f324ec0168"
      },
      "execution_count": 14,
      "outputs": [
        {
          "output_type": "stream",
          "name": "stdout",
          "text": [
            "1:Cliente 1:cliente1@email.com\n",
            "4:Cliente 1:cliente1@email.com\n"
          ]
        }
      ]
    },
    {
      "cell_type": "markdown",
      "source": [
        "# Actualizar un registro"
      ],
      "metadata": {
        "id": "rtQhIX3_5ZEX"
      }
    },
    {
      "cell_type": "code",
      "source": [
        "stmt = (\n",
        "    update(clientes).where(clientes.c.id_cliente == 1).\n",
        "    values(nombre = 'Cliente actualizado')\n",
        "    )\n",
        "\n",
        "print(stmt)"
      ],
      "metadata": {
        "id": "8PbHmuQC5bRl",
        "outputId": "99c69e4a-fe47-4188-fdb7-03d484990cb0",
        "colab": {
          "base_uri": "https://localhost:8080/"
        }
      },
      "execution_count": 17,
      "outputs": [
        {
          "output_type": "stream",
          "name": "stdout",
          "text": [
            "UPDATE clientes SET nombre=:nombre WHERE clientes.id_cliente = :id_cliente_1\n"
          ]
        }
      ]
    },
    {
      "cell_type": "markdown",
      "source": [
        "# Ejecutar el statement UPDATE"
      ],
      "metadata": {
        "id": "k95vFOq36VLm"
      }
    },
    {
      "cell_type": "code",
      "source": [
        "with engine.connect() as conn:\n",
        "    result = conn.execute(stmt)"
      ],
      "metadata": {
        "id": "j3gafG-45yq4"
      },
      "execution_count": 18,
      "outputs": []
    },
    {
      "cell_type": "markdown",
      "source": [
        "# Creación de un metodo para imprimir todos los registros"
      ],
      "metadata": {
        "id": "L0WHiemF6aJx"
      }
    },
    {
      "cell_type": "code",
      "source": [
        "def get_all():\n",
        "    with engine.connect() as conn:\n",
        "        stmt = select(clientes)\n",
        "        result = conn.execute(stmt)\n",
        "        for row in result.fetchall():\n",
        "            print(f\"{row['id_cliente']} : {row['nombre']} : {row['email']}\")"
      ],
      "metadata": {
        "id": "9i7LncVK53Uc"
      },
      "execution_count": 24,
      "outputs": []
    },
    {
      "cell_type": "markdown",
      "source": [
        "# Invocar el método para mostrar todos los registros"
      ],
      "metadata": {
        "id": "WpU95Jtf6fqL"
      }
    },
    {
      "cell_type": "code",
      "source": [
        "get_all()"
      ],
      "metadata": {
        "id": "A-Fyuu0G6BUj",
        "outputId": "912bbf39-04b6-400d-87e9-4195e65b2b88",
        "colab": {
          "base_uri": "https://localhost:8080/"
        }
      },
      "execution_count": 26,
      "outputs": [
        {
          "output_type": "stream",
          "name": "stdout",
          "text": [
            "1 : Cliente actualizado : cliente1@email.com\n",
            "2 : Cliente 2 : cliente2@email.com\n",
            "3 : Cliente 3 : cliente3@email.com\n",
            "4 : Cliente 1 : cliente1@email.com\n",
            "5 : Cliente 2 : cliente2@email.com\n",
            "6 : Cliente 3 : cliente3@email.com\n"
          ]
        }
      ]
    },
    {
      "cell_type": "code",
      "source": [
        ""
      ],
      "metadata": {
        "id": "fOGnfGuZ6j_d"
      },
      "execution_count": null,
      "outputs": []
    }
  ]
}