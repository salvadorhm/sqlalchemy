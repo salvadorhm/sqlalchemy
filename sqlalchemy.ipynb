{
  "nbformat": 4,
  "nbformat_minor": 0,
  "metadata": {
    "colab": {
      "name": "sqlalchemy.ipynb",
      "provenance": [],
      "collapsed_sections": [],
      "authorship_tag": "ABX9TyPLeYbps+6Rmz8AL8DUxPkd",
      "include_colab_link": true
    },
    "kernelspec": {
      "name": "python3",
      "display_name": "Python 3"
    },
    "language_info": {
      "name": "python"
    },
    "gpuClass": "standard"
  },
  "cells": [
    {
      "cell_type": "markdown",
      "metadata": {
        "id": "view-in-github",
        "colab_type": "text"
      },
      "source": [
        "<a href=\"https://colab.research.google.com/github/salvadorhm/sqlalchemy/blob/main/sqlalchemy.ipynb\" target=\"_parent\"><img src=\"https://colab.research.google.com/assets/colab-badge.svg\" alt=\"Open In Colab\"/></a>"
      ]
    },
    {
      "cell_type": "markdown",
      "source": [
        "# SQLAlchemy Inntroducción\n",
        "\n",
        "## Cargar las librerias de sqlachemy"
      ],
      "metadata": {
        "id": "4mN3A-cHsodi"
      }
    },
    {
      "cell_type": "code",
      "execution_count": 1,
      "metadata": {
        "id": "MQeJbAGLrwY8"
      },
      "outputs": [],
      "source": [
        "from sqlalchemy import create_engine # Conexion con las bases de datos\n",
        "from sqlalchemy import MetaData # Metadatos de las tablas\n",
        "from sqlalchemy import Table, Column, Integer, String # Tipos de datos\n",
        "from sqlalchemy import insert, select, update, delete # Funciones "
      ]
    },
    {
      "cell_type": "markdown",
      "source": [
        "# Conexión con la base de datos"
      ],
      "metadata": {
        "id": "0rfoo7artFWP"
      }
    },
    {
      "cell_type": "code",
      "source": [
        "engine = create_engine('sqlite:///foo.db')"
      ],
      "metadata": {
        "id": "IXUj9D7hr1ka"
      },
      "execution_count": 2,
      "outputs": []
    },
    {
      "cell_type": "markdown",
      "source": [
        "# Objeto para definir las tablas\n",
        "\n",
        "[Definición de estructura de las tablas](https://docs.sqlalchemy.org/en/14/core/metadata.html)"
      ],
      "metadata": {
        "id": "q8SsStpvtKry"
      }
    },
    {
      "cell_type": "code",
      "source": [
        "metadata_obj = MetaData()"
      ],
      "metadata": {
        "id": "D9Ihloe6r6A1"
      },
      "execution_count": 3,
      "outputs": []
    },
    {
      "cell_type": "markdown",
      "source": [
        "# Definicion de la tabla clientes\n",
        "\n",
        "Tipos de datos de SQLAlchemy [Tipos de datos](https://www.oreilly.com/library/view/essential-sqlalchemy/9780596516147/ch04.html)\n",
        "\n",
        "|Class name|Python type|SQL type (for SQLite driver)|Arguments|\n",
        "|---|---|---|---|\n",
        "|String\t|string\t|TEXT or VARCHAR\t|length (default is unbounded)|\n",
        "|Integer|\tint|\tINTEGER|\tnone|\n",
        "|SmallInteger|\tint\t|SMALLINT|\tnone|\n",
        "|Numeric|\tfloat, Decimal|\tNUMERIC\t|precision=10 , length=2|\n",
        "|Float(Numeric)|\tfloat|\tNUMERIC\t|precision=10|\n",
        "|DateTime|\tdatetime.datetime\t|TIMESTAMP\t|none|\n",
        "|Date|\tdatetime.date\t|DATE\t|none|\n",
        "|Time|\tdatetime.time\t|TIME\t|none|\n",
        "|Binary|\tbyte string|\tBLOB\t|length (default is unbounded)|\n",
        "|Boolean|\tbool\t|BOOLEAN\t|none|\n",
        "|Unicode|\tunicode\t|TEXT or VARCHAR\t|length (default is unbounded)|\n",
        "|PickleType\t|any object that can be pickled|\tBLOB\t|none|\n",
        "|FLOAT(Numeric)|\tfloat, Decimal\t|NUMERIC\t|precision=10 ,length=2|\n",
        "|TEXT(String)\t|string\t|TEXT\t|length (default is unbounded)|\n",
        "|DECIMAL(Numeric)|\tfloat, Decimal\t|NUMERIC\t|precision=10,length=2|\n",
        "|INT, INTEGER(Integer)|\tint\t|INTEGER\t|none|\n",
        "|TIMESTAMP(DateTime)\t|datetime.datetime\t|TIMESTAMP\t|none|\n",
        "|DATETIME(DateTime)\t|datetime.datetime\t|TIMESTAMP\t|none|\n",
        "|CLOB(String)\t|string\t|TEXT\t|length (default is unbounded)|\n",
        "|VARCHAR(String)|\tstring|\tVARCHAR or TEXT\t|length (default is unbounded)|\n",
        "|CHAR(String)|\tstring\t|CHAR or TEXT\t|length (default is unbounded)|\n",
        "|NCHAR(Unicode)|\tstring\t|VARCHAR, NCHAR, or TEXT\t|length (default is unbounded)|\n",
        "|BLOB(Binary)|\tbyte string\t|BLOB\t|length (default is unbounded)|\n",
        "|BOOLEAN(Boolean)|\tbool\t|BOOLEAN\t|none|"
      ],
      "metadata": {
        "id": "YTw6oAV3tQ2U"
      }
    },
    {
      "cell_type": "code",
      "source": [
        "clientes = Table(\n",
        "    'clientes',\n",
        "    metadata_obj,\n",
        "    Column('id_cliente', Integer, primary_key=True),\n",
        "    Column('nombre', String(16), nullable=False),\n",
        "    Column('email', String(60), nullable=False),\n",
        ")"
      ],
      "metadata": {
        "id": "0vJm75aQr_5f"
      },
      "execution_count": 4,
      "outputs": []
    },
    {
      "cell_type": "markdown",
      "source": [
        "# Creación de las tablas y de la base de datos si no existiera"
      ],
      "metadata": {
        "id": "N845WqRmtWv9"
      }
    },
    {
      "cell_type": "code",
      "source": [
        "metadata_obj.create_all(engine)"
      ],
      "metadata": {
        "id": "I0D1BksesC4O"
      },
      "execution_count": 5,
      "outputs": []
    },
    {
      "cell_type": "markdown",
      "source": [
        "# Sentencia (statement) para insertar un nuevo registro usando SQLAlchemy Core\n",
        "\n",
        "[Documentación para insertar](https://docs.sqlalchemy.org/en/14/tutorial/data_insert.html)"
      ],
      "metadata": {
        "id": "AU5dTjuftd1l"
      }
    },
    {
      "cell_type": "code",
      "source": [
        "stmt = insert(clientes).values(nombre='Cliente 1', email=\"cliente1@email.com\")\n",
        "print(type(stmt))\n",
        "print(stmt)"
      ],
      "metadata": {
        "colab": {
          "base_uri": "https://localhost:8080/"
        },
        "id": "J4srK3wCsFP-",
        "outputId": "03cbe697-5dba-4425-d91e-eb2061630d45"
      },
      "execution_count": 25,
      "outputs": [
        {
          "output_type": "stream",
          "name": "stdout",
          "text": [
            "<class 'sqlalchemy.sql.dml.Insert'>\n",
            "INSERT INTO clientes (nombre, email) VALUES (:nombre, :email)\n"
          ]
        }
      ]
    },
    {
      "cell_type": "markdown",
      "source": [
        "# Conexión con la base de datos y ejecucion de la sentencia (statement).\n",
        "\n",
        "**Nota:** with permite abrir y cerrar la sesion con la base de datos de forma automatica.\n",
        "\n"
      ],
      "metadata": {
        "id": "EJA_3OYltmvX"
      }
    },
    {
      "cell_type": "code",
      "source": [
        "with engine.connect() as conn:\n",
        "    result = conn.execute(stmt)"
      ],
      "metadata": {
        "id": "VmKtiUDDsW7V"
      },
      "execution_count": 7,
      "outputs": []
    },
    {
      "cell_type": "markdown",
      "source": [
        "# Insertar multiple registros"
      ],
      "metadata": {
        "id": "0t6aetJwvuN-"
      }
    },
    {
      "cell_type": "code",
      "source": [
        "data = [\n",
        "    {\"nombre\":\"Cliente 2\",\"email\":\"cliente2@email.com\"},\n",
        "    {\"nombre\":\"Cliente 3\",\"email\":\"cliente3@email.com\"}\n",
        "    ]\n",
        "stmt = insert(clientes).values(data)\n",
        "print(stmt)"
      ],
      "metadata": {
        "colab": {
          "base_uri": "https://localhost:8080/"
        },
        "id": "6-eJMbcgvxUo",
        "outputId": "6f938360-6673-4bb7-e77e-ceedcbcbc7e7"
      },
      "execution_count": 8,
      "outputs": [
        {
          "output_type": "stream",
          "name": "stdout",
          "text": [
            "INSERT INTO clientes (nombre, email) VALUES (:nombre_m0, :email_m0), (:nombre_m1, :email_m1)\n"
          ]
        }
      ]
    },
    {
      "cell_type": "markdown",
      "source": [
        "# Conexión con la base de datos para insertar los valores"
      ],
      "metadata": {
        "id": "aYRuAmYUwoi6"
      }
    },
    {
      "cell_type": "code",
      "source": [
        "with engine.connect() as conn:\n",
        "    result = conn.execute(stmt)"
      ],
      "metadata": {
        "id": "GSCSaQdkwt8U"
      },
      "execution_count": 9,
      "outputs": []
    },
    {
      "cell_type": "markdown",
      "source": [
        "# Sentencia (statement) para consultar todos los registros con SQLAlchemy Core\n",
        "\n",
        "[Documentación para selección de registros](https://docs.sqlalchemy.org/en/14/orm/queryguide.html )"
      ],
      "metadata": {
        "id": "gKNwCsP1u0wd"
      }
    },
    {
      "cell_type": "code",
      "source": [
        "stmt = select(clientes)\n",
        "print(type(stmt))\n",
        "print(stmt)"
      ],
      "metadata": {
        "colab": {
          "base_uri": "https://localhost:8080/"
        },
        "id": "gn0v_DsxsXyg",
        "outputId": "b71ac324-d568-4231-e1f7-2a081b1dc516"
      },
      "execution_count": 26,
      "outputs": [
        {
          "output_type": "stream",
          "name": "stdout",
          "text": [
            "<class 'sqlalchemy.sql.selectable.Select'>\n",
            "SELECT clientes.id_cliente, clientes.nombre, clientes.email \n",
            "FROM clientes\n"
          ]
        }
      ]
    },
    {
      "cell_type": "markdown",
      "source": [
        "# Conexión con la base de datos y ejecucion de la Sentencia (statement)."
      ],
      "metadata": {
        "id": "L4ymj6I9vAn9"
      }
    },
    {
      "cell_type": "code",
      "source": [
        "with engine.connect() as conn:\n",
        "    result = conn.execute(stmt)\n",
        "    for row in result.fetchall():\n",
        "        print(f\"{row['id_cliente']} : {row['nombre']} : {row['email']}\")"
      ],
      "metadata": {
        "colab": {
          "base_uri": "https://localhost:8080/"
        },
        "id": "PNHNkmiasfir",
        "outputId": "1f3bc966-c393-4905-9ad3-6f2094d6a1aa"
      },
      "execution_count": 11,
      "outputs": [
        {
          "output_type": "stream",
          "name": "stdout",
          "text": [
            "1 : Cliente 1 : cliente1@email.com\n",
            "2 : Cliente 2 : cliente2@email.com\n",
            "3 : Cliente 3 : cliente3@email.com\n"
          ]
        }
      ]
    },
    {
      "cell_type": "markdown",
      "source": [
        "# Sentencia (statement) para consultar un solo registro"
      ],
      "metadata": {
        "id": "hEPQDMKnxRZW"
      }
    },
    {
      "cell_type": "code",
      "source": [
        "stmt = select(clientes).where(clientes.c.nombre =='Cliente 1')\n",
        "print(type(stmt))\n",
        "print(stmt)"
      ],
      "metadata": {
        "colab": {
          "base_uri": "https://localhost:8080/"
        },
        "id": "OkaSIvBOsi7c",
        "outputId": "ba51f57a-4b93-4d9f-8772-024617435a38"
      },
      "execution_count": 27,
      "outputs": [
        {
          "output_type": "stream",
          "name": "stdout",
          "text": [
            "<class 'sqlalchemy.sql.selectable.Select'>\n",
            "SELECT clientes.id_cliente, clientes.nombre, clientes.email \n",
            "FROM clientes \n",
            "WHERE clientes.nombre = :nombre_1\n"
          ]
        }
      ]
    },
    {
      "cell_type": "markdown",
      "source": [
        "# Ejecutando la sentencia (statement) SELECT WHERE"
      ],
      "metadata": {
        "id": "CnaA5jh42mma"
      }
    },
    {
      "cell_type": "code",
      "source": [
        "with engine.connect() as conn:\n",
        "    result = conn.execute(stmt)\n",
        "    for row in result.fetchall():\n",
        "        print(f\"{row['id_cliente']} : {row['nombre']} : {row['email']}\")"
      ],
      "metadata": {
        "colab": {
          "base_uri": "https://localhost:8080/"
        },
        "id": "KGC7ilb8yG3i",
        "outputId": "c50850f9-ac97-4d09-a9df-a59596ddc762"
      },
      "execution_count": 13,
      "outputs": [
        {
          "output_type": "stream",
          "name": "stdout",
          "text": [
            "1 : Cliente 1 : cliente1@email.com\n"
          ]
        }
      ]
    },
    {
      "cell_type": "code",
      "source": [
        "with engine.connect() as conn:\n",
        "    result = conn.execute(stmt)\n",
        "    for row in result:\n",
        "        print(f\"{row.id_cliente}:{row.nombre}:{row.email}\")"
      ],
      "metadata": {
        "id": "QPPdWeYq2r-T",
        "colab": {
          "base_uri": "https://localhost:8080/"
        },
        "outputId": "508904b0-df6b-4257-8870-9662a555f7f6"
      },
      "execution_count": 14,
      "outputs": [
        {
          "output_type": "stream",
          "name": "stdout",
          "text": [
            "1:Cliente 1:cliente1@email.com\n"
          ]
        }
      ]
    },
    {
      "cell_type": "markdown",
      "source": [
        "## Ordenar registros"
      ],
      "metadata": {
        "id": "JIasVM5FvyQK"
      }
    },
    {
      "cell_type": "code",
      "source": [
        "stmt = select(clientes).order_by(clientes.c.nombre)\n",
        "print(type(stmt))\n",
        "print(stmt)"
      ],
      "metadata": {
        "id": "aPuicMsJv4mu",
        "outputId": "1541141e-50ad-4862-cc62-765c2b0f11ad",
        "colab": {
          "base_uri": "https://localhost:8080/"
        }
      },
      "execution_count": 29,
      "outputs": [
        {
          "output_type": "stream",
          "name": "stdout",
          "text": [
            "<class 'sqlalchemy.sql.selectable.Select'>\n",
            "SELECT clientes.id_cliente, clientes.nombre, clientes.email \n",
            "FROM clientes ORDER BY clientes.nombre\n"
          ]
        }
      ]
    },
    {
      "cell_type": "markdown",
      "source": [
        "# Ejecutando la sentencia (statement) SELECT ORDER BY"
      ],
      "metadata": {
        "id": "FGbbNqRkwZor"
      }
    },
    {
      "cell_type": "code",
      "source": [
        "with engine.connect() as conn:\n",
        "    result = conn.execute(stmt)\n",
        "    for row in result:\n",
        "        print(f\"{row.id_cliente}:{row.nombre}:{row.email}\")"
      ],
      "metadata": {
        "id": "9fBNeLMLwU_T",
        "outputId": "ef174da2-232c-408e-d25a-c0b3b698cec1",
        "colab": {
          "base_uri": "https://localhost:8080/"
        }
      },
      "execution_count": 30,
      "outputs": [
        {
          "output_type": "stream",
          "name": "stdout",
          "text": [
            "3:Cliente 3:cliente3@email.com\n",
            "1:Cliente actualizado:cliente1@email.com\n"
          ]
        }
      ]
    },
    {
      "cell_type": "markdown",
      "source": [
        "# Seleccionado campos a mostrar de una consulta"
      ],
      "metadata": {
        "id": "sOyLV-xTwp6_"
      }
    },
    {
      "cell_type": "code",
      "source": [
        "stmt = select(clientes.c.nombre).order_by(clientes.c.nombre)\n",
        "print(type(stmt))\n",
        "print(stmt)"
      ],
      "metadata": {
        "id": "KJ8HsC4owiAQ",
        "outputId": "dac1a62a-205a-4ebc-fb60-a46864417666",
        "colab": {
          "base_uri": "https://localhost:8080/"
        }
      },
      "execution_count": 31,
      "outputs": [
        {
          "output_type": "stream",
          "name": "stdout",
          "text": [
            "<class 'sqlalchemy.sql.selectable.Select'>\n",
            "SELECT clientes.nombre \n",
            "FROM clientes ORDER BY clientes.nombre\n"
          ]
        }
      ]
    },
    {
      "cell_type": "code",
      "source": [
        "with engine.connect() as conn:\n",
        "    result = conn.execute(stmt)\n",
        "    for row in result:\n",
        "        print(f\"{row}\")"
      ],
      "metadata": {
        "id": "-uTcnErDwuPi",
        "outputId": "6b1f1805-ecd8-4a2f-a3b6-61212530183f",
        "colab": {
          "base_uri": "https://localhost:8080/"
        }
      },
      "execution_count": 33,
      "outputs": [
        {
          "output_type": "stream",
          "name": "stdout",
          "text": [
            "('Cliente 3',)\n",
            "('Cliente actualizado',)\n"
          ]
        }
      ]
    },
    {
      "cell_type": "markdown",
      "source": [
        "# Actualizar un registro"
      ],
      "metadata": {
        "id": "rtQhIX3_5ZEX"
      }
    },
    {
      "cell_type": "code",
      "source": [
        "stmt = (\n",
        "    update(clientes).where(clientes.c.id_cliente == 1).\n",
        "    values(nombre = 'Cliente actualizado')\n",
        "    )\n",
        "\n",
        "print(stmt)"
      ],
      "metadata": {
        "colab": {
          "base_uri": "https://localhost:8080/"
        },
        "id": "8PbHmuQC5bRl",
        "outputId": "d649f81d-e393-4a3d-cc51-d666eb913d22"
      },
      "execution_count": 15,
      "outputs": [
        {
          "output_type": "stream",
          "name": "stdout",
          "text": [
            "UPDATE clientes SET nombre=:nombre WHERE clientes.id_cliente = :id_cliente_1\n"
          ]
        }
      ]
    },
    {
      "cell_type": "markdown",
      "source": [
        "# Ejecutar la sentencia (statement) UPDATE"
      ],
      "metadata": {
        "id": "k95vFOq36VLm"
      }
    },
    {
      "cell_type": "code",
      "source": [
        "with engine.connect() as conn:\n",
        "    result = conn.execute(stmt)"
      ],
      "metadata": {
        "id": "j3gafG-45yq4"
      },
      "execution_count": 16,
      "outputs": []
    },
    {
      "cell_type": "markdown",
      "source": [
        "# Creación de un metodo para imprimir todos los registros"
      ],
      "metadata": {
        "id": "L0WHiemF6aJx"
      }
    },
    {
      "cell_type": "code",
      "source": [
        "def get_all():\n",
        "    with engine.connect() as conn:\n",
        "        stmt = select(clientes)\n",
        "        result = conn.execute(stmt)\n",
        "        for row in result.fetchall():\n",
        "            print(f\"{row['id_cliente']} : {row['nombre']} : {row['email']}\")"
      ],
      "metadata": {
        "id": "9i7LncVK53Uc"
      },
      "execution_count": 17,
      "outputs": []
    },
    {
      "cell_type": "markdown",
      "source": [
        "# Invocar el método para mostrar todos los registros"
      ],
      "metadata": {
        "id": "WpU95Jtf6fqL"
      }
    },
    {
      "cell_type": "code",
      "source": [
        "get_all()"
      ],
      "metadata": {
        "colab": {
          "base_uri": "https://localhost:8080/"
        },
        "id": "A-Fyuu0G6BUj",
        "outputId": "1524279d-d0e5-4972-e73a-6e6d01e11ba4"
      },
      "execution_count": 18,
      "outputs": [
        {
          "output_type": "stream",
          "name": "stdout",
          "text": [
            "1 : Cliente actualizado : cliente1@email.com\n",
            "2 : Cliente 2 : cliente2@email.com\n",
            "3 : Cliente 3 : cliente3@email.com\n"
          ]
        }
      ]
    },
    {
      "cell_type": "markdown",
      "source": [
        "# Sentencia (statement)*texto en cursiva* para eliminar un registro con DELETE"
      ],
      "metadata": {
        "id": "WH_JJwUF68uk"
      }
    },
    {
      "cell_type": "code",
      "source": [
        "stmt = delete(clientes).where(clientes.c.id_cliente == 2)\n",
        "print(stmt)"
      ],
      "metadata": {
        "colab": {
          "base_uri": "https://localhost:8080/"
        },
        "id": "fOGnfGuZ6j_d",
        "outputId": "89cefde5-6b17-42f2-d0d5-72943e19fa8b"
      },
      "execution_count": 19,
      "outputs": [
        {
          "output_type": "stream",
          "name": "stdout",
          "text": [
            "DELETE FROM clientes WHERE clientes.id_cliente = :id_cliente_1\n"
          ]
        }
      ]
    },
    {
      "cell_type": "markdown",
      "source": [
        "# Definir metodo para ejecutar Sentencias (statement)"
      ],
      "metadata": {
        "id": "qDXyIs197NuY"
      }
    },
    {
      "cell_type": "code",
      "source": [
        "def execute(stmt):\n",
        "    with engine.connect() as conn:\n",
        "        result = conn.execute(stmt)\n",
        "        return result"
      ],
      "metadata": {
        "id": "cnq0dSS97R34"
      },
      "execution_count": 20,
      "outputs": []
    },
    {
      "cell_type": "markdown",
      "source": [
        "# Llamar al metodo execute con la sentencia (statement) DELETE"
      ],
      "metadata": {
        "id": "wAXlJzvD7cGK"
      }
    },
    {
      "cell_type": "code",
      "source": [
        "execute(stmt)"
      ],
      "metadata": {
        "id": "WPFF-ygE7hrM",
        "outputId": "da216917-068a-4873-ca6f-9b3797a2e89c",
        "colab": {
          "base_uri": "https://localhost:8080/"
        }
      },
      "execution_count": 21,
      "outputs": [
        {
          "output_type": "execute_result",
          "data": {
            "text/plain": [
              "<sqlalchemy.engine.cursor.LegacyCursorResult at 0x7f70f9c2e350>"
            ]
          },
          "metadata": {},
          "execution_count": 21
        }
      ]
    },
    {
      "cell_type": "markdown",
      "source": [
        "# Imprimir todos los registros para verificar que se elimino un registro"
      ],
      "metadata": {
        "id": "sy_jr77r7pYz"
      }
    },
    {
      "cell_type": "code",
      "source": [
        "get_all()"
      ],
      "metadata": {
        "id": "6-EQYYMk7laf",
        "outputId": "f75d28d1-6d48-478f-874e-ce1cb17e6c03",
        "colab": {
          "base_uri": "https://localhost:8080/"
        }
      },
      "execution_count": 22,
      "outputs": [
        {
          "output_type": "stream",
          "name": "stdout",
          "text": [
            "1 : Cliente actualizado : cliente1@email.com\n",
            "3 : Cliente 3 : cliente3@email.com\n"
          ]
        }
      ]
    },
    {
      "cell_type": "code",
      "source": [
        ""
      ],
      "metadata": {
        "id": "j03vpyihuX2O"
      },
      "execution_count": 22,
      "outputs": []
    }
  ]
}