{
  "nbformat": 4,
  "nbformat_minor": 0,
  "metadata": {
    "colab": {
      "name": "sqlalchemy.ipynb",
      "provenance": [],
      "collapsed_sections": [],
      "authorship_tag": "ABX9TyMO6iSbsYlvVHkNKC3bRE6g",
      "include_colab_link": true
    },
    "kernelspec": {
      "name": "python3",
      "display_name": "Python 3"
    },
    "language_info": {
      "name": "python"
    },
    "gpuClass": "standard"
  },
  "cells": [
    {
      "cell_type": "markdown",
      "metadata": {
        "id": "view-in-github",
        "colab_type": "text"
      },
      "source": [
        "<a href=\"https://colab.research.google.com/github/salvadorhm/sqlalchemy/blob/main/sqlalchemy.ipynb\" target=\"_parent\"><img src=\"https://colab.research.google.com/assets/colab-badge.svg\" alt=\"Open In Colab\"/></a>"
      ]
    },
    {
      "cell_type": "markdown",
      "source": [
        "# SQLAlchemy Introduccion\n",
        "\n",
        "## Cargar las librerias de sqlachemy"
      ],
      "metadata": {
        "id": "4mN3A-cHsodi"
      }
    },
    {
      "cell_type": "code",
      "execution_count": null,
      "metadata": {
        "id": "MQeJbAGLrwY8"
      },
      "outputs": [],
      "source": [
        "from sqlalchemy import create_engine # Conexion con las bases de datos\n",
        "from sqlalchemy import MetaData # Metadatos de las tablas\n",
        "from sqlalchemy import Table, Column, Integer, String # Tipos de datos\n",
        "from sqlalchemy import insert, select # Funciones "
      ]
    },
    {
      "cell_type": "markdown",
      "source": [
        "# Conexion con la base de datos"
      ],
      "metadata": {
        "id": "0rfoo7artFWP"
      }
    },
    {
      "cell_type": "code",
      "source": [
        "engine = create_engine('sqlite:///foo.db')"
      ],
      "metadata": {
        "id": "IXUj9D7hr1ka"
      },
      "execution_count": null,
      "outputs": []
    },
    {
      "cell_type": "markdown",
      "source": [
        "# Objeto para definir las tablas"
      ],
      "metadata": {
        "id": "q8SsStpvtKry"
      }
    },
    {
      "cell_type": "code",
      "source": [
        "metadata_obj = MetaData()"
      ],
      "metadata": {
        "id": "D9Ihloe6r6A1"
      },
      "execution_count": null,
      "outputs": []
    },
    {
      "cell_type": "markdown",
      "source": [
        "# Definicion de la tabla clientes"
      ],
      "metadata": {
        "id": "YTw6oAV3tQ2U"
      }
    },
    {
      "cell_type": "code",
      "source": [
        "clientes = Table(\n",
        "    'clientes',\n",
        "    metadata_obj,\n",
        "    Column('id_cliente', Integer, primary_key=True),\n",
        "    Column('nombre', String(16), nullable=False),\n",
        "    Column('email', String(60), nullable=False),\n",
        ")"
      ],
      "metadata": {
        "id": "0vJm75aQr_5f"
      },
      "execution_count": null,
      "outputs": []
    },
    {
      "cell_type": "markdown",
      "source": [
        "# Creacion de las tablas y de la base de datos si no existiera"
      ],
      "metadata": {
        "id": "N845WqRmtWv9"
      }
    },
    {
      "cell_type": "code",
      "source": [
        "metadata_obj.create_all(engine)"
      ],
      "metadata": {
        "id": "I0D1BksesC4O"
      },
      "execution_count": null,
      "outputs": []
    },
    {
      "cell_type": "markdown",
      "source": [
        "# Statement para insertar un nuevo registro usando SQLAlchemy Core"
      ],
      "metadata": {
        "id": "AU5dTjuftd1l"
      }
    },
    {
      "cell_type": "code",
      "source": [
        "stmt = insert(clientes).values(nombre='Cliente 1', email=\"cliente1@email.com\")\n",
        "print(stmt)"
      ],
      "metadata": {
        "colab": {
          "base_uri": "https://localhost:8080/"
        },
        "id": "J4srK3wCsFP-",
        "outputId": "436e85f1-ff87-441c-e4fe-4192aa3304ae"
      },
      "execution_count": null,
      "outputs": [
        {
          "output_type": "stream",
          "name": "stdout",
          "text": [
            "INSERT INTO clientes (nombre, email) VALUES (:nombre, :email)\n"
          ]
        }
      ]
    },
    {
      "cell_type": "markdown",
      "source": [
        "# Conexion con la base de datos y ejecucion del statement.\n",
        "\n",
        "**Nota:** with permite abrir y cerrar la sesion con la base de datos de forma automatica.\n",
        "\n"
      ],
      "metadata": {
        "id": "EJA_3OYltmvX"
      }
    },
    {
      "cell_type": "code",
      "source": [
        "with engine.connect() as conn:\n",
        "    result = conn.execute(stmt)"
      ],
      "metadata": {
        "id": "VmKtiUDDsW7V"
      },
      "execution_count": null,
      "outputs": []
    },
    {
      "cell_type": "markdown",
      "source": [
        "# Insertar multiple registros"
      ],
      "metadata": {
        "id": "0t6aetJwvuN-"
      }
    },
    {
      "cell_type": "code",
      "source": [
        "data = [\n",
        "    {\"nombre\":\"Cliente 2\",\"email\":\"cliente2@email.com\"},\n",
        "    {\"nombre\":\"Cliente 3\",\"email\":\"cliente3@email.com\"}\n",
        "    ]\n",
        "stmt = insert(clientes).values(data)\n",
        "print(stmt)"
      ],
      "metadata": {
        "colab": {
          "base_uri": "https://localhost:8080/"
        },
        "id": "6-eJMbcgvxUo",
        "outputId": "722c6d09-be68-488d-a45b-d9984d893352"
      },
      "execution_count": null,
      "outputs": [
        {
          "output_type": "stream",
          "name": "stdout",
          "text": [
            "INSERT INTO clientes (nombre, email) VALUES (:nombre_m0, :email_m0), (:nombre_m1, :email_m1)\n"
          ]
        }
      ]
    },
    {
      "cell_type": "markdown",
      "source": [
        "# Conexion con la base de datos para insertar los valores"
      ],
      "metadata": {
        "id": "aYRuAmYUwoi6"
      }
    },
    {
      "cell_type": "code",
      "source": [
        "with engine.connect() as conn:\n",
        "    result = conn.execute(stmt)"
      ],
      "metadata": {
        "id": "GSCSaQdkwt8U"
      },
      "execution_count": null,
      "outputs": []
    },
    {
      "cell_type": "markdown",
      "source": [
        "# Statement para consultar todos los registros con SQLAlchemy Core"
      ],
      "metadata": {
        "id": "gKNwCsP1u0wd"
      }
    },
    {
      "cell_type": "code",
      "source": [
        "stmt = select(clientes)\n",
        "print(stmt)"
      ],
      "metadata": {
        "colab": {
          "base_uri": "https://localhost:8080/"
        },
        "id": "gn0v_DsxsXyg",
        "outputId": "d0256ae0-36ce-4349-8e0e-f3730f625a49"
      },
      "execution_count": null,
      "outputs": [
        {
          "output_type": "stream",
          "name": "stdout",
          "text": [
            "SELECT clientes.id_cliente, clientes.nombre, clientes.email \n",
            "FROM clientes\n"
          ]
        }
      ]
    },
    {
      "cell_type": "markdown",
      "source": [
        "# Conexion con la base de datos y ejecucion del statement."
      ],
      "metadata": {
        "id": "L4ymj6I9vAn9"
      }
    },
    {
      "cell_type": "code",
      "source": [
        "with engine.connect() as conn:\n",
        "    result = conn.execute(stmt)\n",
        "    for row in result.fetchall():\n",
        "        print(f\"{row['id_cliente']} : {row['nombre']} : {row['email']}\")"
      ],
      "metadata": {
        "colab": {
          "base_uri": "https://localhost:8080/"
        },
        "id": "PNHNkmiasfir",
        "outputId": "8a4c9cdb-8e20-4bb8-a549-7e42192ad359"
      },
      "execution_count": null,
      "outputs": [
        {
          "output_type": "stream",
          "name": "stdout",
          "text": [
            "1 : Cliente 1 : cliente1@email.com\n",
            "2 : Cliente 2 : cliente2@email.com\n",
            "3 : Cliente 3 : cliente3@email.com\n",
            "4 : Cliente 1 : cliente1@email.com\n",
            "5 : Cliente 2 : cliente2@email.com\n",
            "6 : Cliente 3 : cliente3@email.com\n"
          ]
        }
      ]
    },
    {
      "cell_type": "markdown",
      "source": [
        "# Statement para consultar un solo registro"
      ],
      "metadata": {
        "id": "hEPQDMKnxRZW"
      }
    },
    {
      "cell_type": "code",
      "source": [
        "stmt = select(clientes).where(clientes.c.nombre =='Cliente 1')\n",
        "print(stmt)"
      ],
      "metadata": {
        "colab": {
          "base_uri": "https://localhost:8080/"
        },
        "id": "OkaSIvBOsi7c",
        "outputId": "bbbe43f7-ac72-44ea-e7db-837142cdfe37"
      },
      "execution_count": null,
      "outputs": [
        {
          "output_type": "stream",
          "name": "stdout",
          "text": [
            "SELECT clientes.id_cliente, clientes.nombre, clientes.email \n",
            "FROM clientes \n",
            "WHERE clientes.nombre = :nombre_1\n"
          ]
        }
      ]
    },
    {
      "cell_type": "markdown",
      "source": [
        "# Ejecutando el statement"
      ],
      "metadata": {
        "id": "CnaA5jh42mma"
      }
    },
    {
      "cell_type": "code",
      "source": [
        "with engine.connect() as conn:\n",
        "    result = conn.execute(stmt)\n",
        "    for row in result.fetchall():\n",
        "        print(f\"{row['id_cliente']} : {row['nombre']} : {row['email']}\")"
      ],
      "metadata": {
        "colab": {
          "base_uri": "https://localhost:8080/"
        },
        "id": "KGC7ilb8yG3i",
        "outputId": "a6e4cd24-77ec-4690-c542-c13f4c90735f"
      },
      "execution_count": null,
      "outputs": [
        {
          "output_type": "stream",
          "name": "stdout",
          "text": [
            "1 : Cliente 1 : cliente1@email.com\n",
            "4 : Cliente 1 : cliente1@email.com\n"
          ]
        }
      ]
    },
    {
      "cell_type": "code",
      "source": [
        "with engine.connect() as conn:\n",
        "    result = conn.execute(stmt)\n",
        "    for row in result:\n",
        "        print(f\"{row.id_cliente}:{row.nombre}:{row.email}\")"
      ],
      "metadata": {
        "id": "QPPdWeYq2r-T",
        "outputId": "d0b23efb-8f12-4d7a-c10c-0ef3fd272725",
        "colab": {
          "base_uri": "https://localhost:8080/"
        }
      },
      "execution_count": 20,
      "outputs": [
        {
          "output_type": "stream",
          "name": "stdout",
          "text": [
            "1:Cliente 1:cliente1@email.com\n"
          ]
        }
      ]
    }
  ]
}